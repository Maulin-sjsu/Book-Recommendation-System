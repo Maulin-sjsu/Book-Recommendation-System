{
 "cells": [
  {
   "cell_type": "markdown",
   "metadata": {},
   "source": [
    " #          BOOK RECOMMENDATION SYSTEM"
   ]
  },
  {
   "cell_type": "markdown",
   "metadata": {},
   "source": [
    "# Importing the required libraries"
   ]
  },
  {
   "cell_type": "code",
   "execution_count": null,
   "metadata": {},
   "outputs": [],
   "source": [
    "import numpy as np \n",
    "import pandas as pd\n",
    "import os\n",
    "#import stdiomask\n",
    "# seaborn as sns\n",
    "import isbnlib\n",
    "from newspaper import Article\n",
    "import matplotlib.pyplot as plt\n",
    "plt.style.use('ggplot')\n",
    "from tqdm import tqdm\n",
    "from progressbar import ProgressBar\n",
    "import re\n",
    "from scipy.cluster.vq import kmeans, vq\n",
    "from pylab import plot, show\n",
    "from matplotlib.lines import Line2D\n",
    "import matplotlib.colors as mcolors\n",
    "import goodreads_api_client as gr\n",
    "from sklearn.cluster import KMeans\n",
    "from sklearn import neighbors\n",
    "from sklearn.model_selection import train_test_split\n",
    "from sklearn.preprocessing import MinMaxScaler\n",
    "from email.mime.text import MIMEText\n",
    "from email.mime.multipart import MIMEMultipart\n",
    "import ssl\n",
    "import smtplib\n",
    "from pyspark import SparkConf, SparkContext\n",
    "from multiprocessing import Pool\n",
    "import os\n",
    "os.environ[\"PYSPARK_PYTHON\"] = \"/usr/local/bin/python3\""
   ]
  },
  {
   "cell_type": "code",
   "execution_count": 14,
   "metadata": {},
   "outputs": [],
   "source": [
    "import numpy as np \n",
    "import pandas as pd"
   ]
  },
  {
   "cell_type": "code",
   "execution_count": 15,
   "metadata": {},
   "outputs": [],
   "source": [
    "import warnings\n",
    "warnings.filterwarnings(\"ignore\")\n",
    "df = pd.read_csv('books.csv', error_bad_lines = False)"
   ]
  },
  {
   "cell_type": "markdown",
   "metadata": {},
   "source": [
    "# Connecting to Cassandra"
   ]
  },
  {
   "cell_type": "code",
   "execution_count": 16,
   "metadata": {},
   "outputs": [],
   "source": [
    "from cassandra.cluster import Cluster\n",
    "from cassandra.auth import PlainTextAuthProvider"
   ]
  },
  {
   "cell_type": "code",
   "execution_count": 17,
   "metadata": {},
   "outputs": [],
   "source": [
    "cluster = Cluster(['127.0.0.1'])\n",
    "session = cluster.connect('cmpe266')"
   ]
  },
  {
   "cell_type": "code",
   "execution_count": 18,
   "metadata": {},
   "outputs": [
    {
     "data": {
      "text/html": [
       "<div>\n",
       "<style scoped>\n",
       "    .dataframe tbody tr th:only-of-type {\n",
       "        vertical-align: middle;\n",
       "    }\n",
       "\n",
       "    .dataframe tbody tr th {\n",
       "        vertical-align: top;\n",
       "    }\n",
       "\n",
       "    .dataframe thead th {\n",
       "        text-align: right;\n",
       "    }\n",
       "</style>\n",
       "<table border=\"1\" class=\"dataframe\">\n",
       "  <thead>\n",
       "    <tr style=\"text-align: right;\">\n",
       "      <th></th>\n",
       "      <th>bookid</th>\n",
       "      <th>authors</th>\n",
       "      <th>average_rating</th>\n",
       "      <th>isbn</th>\n",
       "      <th>isbn13</th>\n",
       "      <th>language_code</th>\n",
       "      <th>num_pages</th>\n",
       "      <th>publication_date</th>\n",
       "      <th>publisher</th>\n",
       "      <th>ratings_count</th>\n",
       "      <th>text_reviews_count</th>\n",
       "      <th>title</th>\n",
       "    </tr>\n",
       "  </thead>\n",
       "  <tbody>\n",
       "    <tr>\n",
       "      <th>0</th>\n",
       "      <td>39433</td>\n",
       "      <td>Bruce Cumings</td>\n",
       "      <td>3.77</td>\n",
       "      <td>393327027</td>\n",
       "      <td>9.78039E+12</td>\n",
       "      <td>eng</td>\n",
       "      <td>544</td>\n",
       "      <td>9/17/2005</td>\n",
       "      <td>W. W. Norton  Company</td>\n",
       "      <td>647</td>\n",
       "      <td>67</td>\n",
       "      <td>Korea's Place in the Sun: A Modern History</td>\n",
       "    </tr>\n",
       "    <tr>\n",
       "      <th>1</th>\n",
       "      <td>37032</td>\n",
       "      <td>Susan Hill</td>\n",
       "      <td>3.95</td>\n",
       "      <td>701179791</td>\n",
       "      <td>9.7807E+12</td>\n",
       "      <td>eng</td>\n",
       "      <td>320</td>\n",
       "      <td>7/1/2006</td>\n",
       "      <td>Chatto &amp; Windus</td>\n",
       "      <td>3060</td>\n",
       "      <td>264</td>\n",
       "      <td>The Risk of Darkness (Simon Serrailler  #3)</td>\n",
       "    </tr>\n",
       "    <tr>\n",
       "      <th>2</th>\n",
       "      <td>1584</td>\n",
       "      <td>W. John Campbell</td>\n",
       "      <td>2.80</td>\n",
       "      <td>822007762</td>\n",
       "      <td>49086007763</td>\n",
       "      <td>eng</td>\n",
       "      <td>80</td>\n",
       "      <td>12/29/1983</td>\n",
       "      <td>Cliffs Notes</td>\n",
       "      <td>5</td>\n",
       "      <td>0</td>\n",
       "      <td>Cliffs Notes on Aristophanes' Lysistrata  The ...</td>\n",
       "    </tr>\n",
       "    <tr>\n",
       "      <th>3</th>\n",
       "      <td>7034</td>\n",
       "      <td>Alexander McCall Smith</td>\n",
       "      <td>4.08</td>\n",
       "      <td>140007570X</td>\n",
       "      <td>9.7814E+12</td>\n",
       "      <td>eng</td>\n",
       "      <td>256</td>\n",
       "      <td>3/14/2006</td>\n",
       "      <td>Anchor</td>\n",
       "      <td>1070</td>\n",
       "      <td>73</td>\n",
       "      <td>In the Company of Cheerful Ladies (No. 1 Ladie...</td>\n",
       "    </tr>\n",
       "    <tr>\n",
       "      <th>4</th>\n",
       "      <td>23912</td>\n",
       "      <td>William Blake/Alicia Suskin Ostriker</td>\n",
       "      <td>4.24</td>\n",
       "      <td>140422153</td>\n",
       "      <td>9.78014E+12</td>\n",
       "      <td>eng</td>\n",
       "      <td>1072</td>\n",
       "      <td>11/24/1977</td>\n",
       "      <td>Penguin Classics</td>\n",
       "      <td>7738</td>\n",
       "      <td>48</td>\n",
       "      <td>The Complete Poems</td>\n",
       "    </tr>\n",
       "  </tbody>\n",
       "</table>\n",
       "</div>"
      ],
      "text/plain": [
       "   bookid                               authors  average_rating        isbn  \\\n",
       "0   39433                         Bruce Cumings            3.77   393327027   \n",
       "1   37032                            Susan Hill            3.95   701179791   \n",
       "2    1584                      W. John Campbell            2.80   822007762   \n",
       "3    7034                Alexander McCall Smith            4.08  140007570X   \n",
       "4   23912  William Blake/Alicia Suskin Ostriker            4.24   140422153   \n",
       "\n",
       "        isbn13 language_code  num_pages publication_date  \\\n",
       "0  9.78039E+12           eng        544        9/17/2005   \n",
       "1   9.7807E+12           eng        320         7/1/2006   \n",
       "2  49086007763           eng         80       12/29/1983   \n",
       "3   9.7814E+12           eng        256        3/14/2006   \n",
       "4  9.78014E+12           eng       1072       11/24/1977   \n",
       "\n",
       "               publisher  ratings_count  text_reviews_count  \\\n",
       "0  W. W. Norton  Company            647                  67   \n",
       "1        Chatto & Windus           3060                 264   \n",
       "2           Cliffs Notes              5                   0   \n",
       "3                 Anchor           1070                  73   \n",
       "4       Penguin Classics           7738                  48   \n",
       "\n",
       "                                               title  \n",
       "0         Korea's Place in the Sun: A Modern History  \n",
       "1        The Risk of Darkness (Simon Serrailler  #3)  \n",
       "2  Cliffs Notes on Aristophanes' Lysistrata  The ...  \n",
       "3  In the Company of Cheerful Ladies (No. 1 Ladie...  \n",
       "4                                 The Complete Poems  "
      ]
     },
     "execution_count": 18,
     "metadata": {},
     "output_type": "execute_result"
    }
   ],
   "source": [
    "rows = session.execute('select * from books;')\n",
    "df_cas = pd.DataFrame(rows._current_rows)\n",
    "df_cas.head()"
   ]
  },
  {
   "cell_type": "code",
   "execution_count": 6,
   "metadata": {},
   "outputs": [],
   "source": [
    "df.index = df['bookID']"
   ]
  },
  {
   "cell_type": "code",
   "execution_count": 7,
   "metadata": {},
   "outputs": [
    {
     "name": "stdout",
     "output_type": "stream",
     "text": [
      "Dataset contains 11123 rows and 12 columns\n"
     ]
    }
   ],
   "source": [
    "#Finding Number of rows and columns\n",
    "print(\"Dataset contains {} rows and {} columns\".format(df.shape[0], df.shape[1]))"
   ]
  },
  {
   "cell_type": "markdown",
   "metadata": {},
   "source": [
    "# Data Parallelization"
   ]
  },
  {
   "cell_type": "code",
   "execution_count": 8,
   "metadata": {},
   "outputs": [],
   "source": [
    "num_partitions = 10 #number of partitions to split dataframe\n",
    "num_cores = 4 #number of cores on your machine\n"
   ]
  },
  {
   "cell_type": "code",
   "execution_count": 9,
   "metadata": {},
   "outputs": [],
   "source": [
    "def parallelize_dataframe(df):\n",
    "    df_split = np.array_split(df, num_partitions)\n",
    "    pool = Pool(num_cores)\n",
    "    pool.close()\n",
    "    pool.join()\n",
    "    return df"
   ]
  },
  {
   "cell_type": "code",
   "execution_count": 10,
   "metadata": {},
   "outputs": [],
   "source": [
    "df = parallelize_dataframe(df)"
   ]
  },
  {
   "cell_type": "code",
   "execution_count": 11,
   "metadata": {},
   "outputs": [
    {
     "data": {
      "text/html": [
       "<div>\n",
       "<style scoped>\n",
       "    .dataframe tbody tr th:only-of-type {\n",
       "        vertical-align: middle;\n",
       "    }\n",
       "\n",
       "    .dataframe tbody tr th {\n",
       "        vertical-align: top;\n",
       "    }\n",
       "\n",
       "    .dataframe thead th {\n",
       "        text-align: right;\n",
       "    }\n",
       "</style>\n",
       "<table border=\"1\" class=\"dataframe\">\n",
       "  <thead>\n",
       "    <tr style=\"text-align: right;\">\n",
       "      <th></th>\n",
       "      <th>bookID</th>\n",
       "      <th>title</th>\n",
       "      <th>authors</th>\n",
       "      <th>average_rating</th>\n",
       "      <th>isbn</th>\n",
       "      <th>isbn13</th>\n",
       "      <th>language_code</th>\n",
       "      <th>num_pages</th>\n",
       "      <th>ratings_count</th>\n",
       "      <th>text_reviews_count</th>\n",
       "      <th>publication_date</th>\n",
       "      <th>publisher</th>\n",
       "    </tr>\n",
       "    <tr>\n",
       "      <th>bookID</th>\n",
       "      <th></th>\n",
       "      <th></th>\n",
       "      <th></th>\n",
       "      <th></th>\n",
       "      <th></th>\n",
       "      <th></th>\n",
       "      <th></th>\n",
       "      <th></th>\n",
       "      <th></th>\n",
       "      <th></th>\n",
       "      <th></th>\n",
       "      <th></th>\n",
       "    </tr>\n",
       "  </thead>\n",
       "  <tbody>\n",
       "    <tr>\n",
       "      <th>1</th>\n",
       "      <td>1</td>\n",
       "      <td>Harry Potter and the Half-Blood Prince (Harry ...</td>\n",
       "      <td>J.K. Rowling/Mary GrandPré</td>\n",
       "      <td>4.57</td>\n",
       "      <td>0439785960</td>\n",
       "      <td>9780439785969</td>\n",
       "      <td>eng</td>\n",
       "      <td>652</td>\n",
       "      <td>2095690</td>\n",
       "      <td>27591</td>\n",
       "      <td>9/16/2006</td>\n",
       "      <td>Scholastic Inc.</td>\n",
       "    </tr>\n",
       "    <tr>\n",
       "      <th>2</th>\n",
       "      <td>2</td>\n",
       "      <td>Harry Potter and the Order of the Phoenix (Har...</td>\n",
       "      <td>J.K. Rowling/Mary GrandPré</td>\n",
       "      <td>4.49</td>\n",
       "      <td>0439358078</td>\n",
       "      <td>9780439358071</td>\n",
       "      <td>eng</td>\n",
       "      <td>870</td>\n",
       "      <td>2153167</td>\n",
       "      <td>29221</td>\n",
       "      <td>9/1/2004</td>\n",
       "      <td>Scholastic Inc.</td>\n",
       "    </tr>\n",
       "    <tr>\n",
       "      <th>4</th>\n",
       "      <td>4</td>\n",
       "      <td>Harry Potter and the Chamber of Secrets (Harry...</td>\n",
       "      <td>J.K. Rowling</td>\n",
       "      <td>4.42</td>\n",
       "      <td>0439554896</td>\n",
       "      <td>9780439554893</td>\n",
       "      <td>eng</td>\n",
       "      <td>352</td>\n",
       "      <td>6333</td>\n",
       "      <td>244</td>\n",
       "      <td>11/1/2003</td>\n",
       "      <td>Scholastic</td>\n",
       "    </tr>\n",
       "    <tr>\n",
       "      <th>5</th>\n",
       "      <td>5</td>\n",
       "      <td>Harry Potter and the Prisoner of Azkaban (Harr...</td>\n",
       "      <td>J.K. Rowling/Mary GrandPré</td>\n",
       "      <td>4.56</td>\n",
       "      <td>043965548X</td>\n",
       "      <td>9780439655484</td>\n",
       "      <td>eng</td>\n",
       "      <td>435</td>\n",
       "      <td>2339585</td>\n",
       "      <td>36325</td>\n",
       "      <td>5/1/2004</td>\n",
       "      <td>Scholastic Inc.</td>\n",
       "    </tr>\n",
       "    <tr>\n",
       "      <th>8</th>\n",
       "      <td>8</td>\n",
       "      <td>Harry Potter Boxed Set  Books 1-5 (Harry Potte...</td>\n",
       "      <td>J.K. Rowling/Mary GrandPré</td>\n",
       "      <td>4.78</td>\n",
       "      <td>0439682584</td>\n",
       "      <td>9780439682589</td>\n",
       "      <td>eng</td>\n",
       "      <td>2690</td>\n",
       "      <td>41428</td>\n",
       "      <td>164</td>\n",
       "      <td>9/13/2004</td>\n",
       "      <td>Scholastic</td>\n",
       "    </tr>\n",
       "  </tbody>\n",
       "</table>\n",
       "</div>"
      ],
      "text/plain": [
       "        bookID                                              title  \\\n",
       "bookID                                                              \n",
       "1            1  Harry Potter and the Half-Blood Prince (Harry ...   \n",
       "2            2  Harry Potter and the Order of the Phoenix (Har...   \n",
       "4            4  Harry Potter and the Chamber of Secrets (Harry...   \n",
       "5            5  Harry Potter and the Prisoner of Azkaban (Harr...   \n",
       "8            8  Harry Potter Boxed Set  Books 1-5 (Harry Potte...   \n",
       "\n",
       "                           authors  average_rating        isbn         isbn13  \\\n",
       "bookID                                                                          \n",
       "1       J.K. Rowling/Mary GrandPré            4.57  0439785960  9780439785969   \n",
       "2       J.K. Rowling/Mary GrandPré            4.49  0439358078  9780439358071   \n",
       "4                     J.K. Rowling            4.42  0439554896  9780439554893   \n",
       "5       J.K. Rowling/Mary GrandPré            4.56  043965548X  9780439655484   \n",
       "8       J.K. Rowling/Mary GrandPré            4.78  0439682584  9780439682589   \n",
       "\n",
       "       language_code    num_pages  ratings_count  text_reviews_count  \\\n",
       "bookID                                                                 \n",
       "1                eng          652        2095690               27591   \n",
       "2                eng          870        2153167               29221   \n",
       "4                eng          352           6333                 244   \n",
       "5                eng          435        2339585               36325   \n",
       "8                eng         2690          41428                 164   \n",
       "\n",
       "       publication_date        publisher  \n",
       "bookID                                    \n",
       "1             9/16/2006  Scholastic Inc.  \n",
       "2              9/1/2004  Scholastic Inc.  \n",
       "4             11/1/2003       Scholastic  \n",
       "5              5/1/2004  Scholastic Inc.  \n",
       "8             9/13/2004       Scholastic  "
      ]
     },
     "execution_count": 11,
     "metadata": {},
     "output_type": "execute_result"
    }
   ],
   "source": [
    "df.head()"
   ]
  },
  {
   "cell_type": "markdown",
   "metadata": {},
   "source": [
    "# Resolving Cold Start Problem"
   ]
  },
  {
   "cell_type": "code",
   "execution_count": 12,
   "metadata": {},
   "outputs": [],
   "source": [
    "def sendMailColdStart(recommendationBookList):\n",
    "    sender_email = \"cmpe.266@gmail.com\"\n",
    "    # receiver_email = \"vineet.khatwal@sjsu.edu\", \"aayushi.gupta@sjsu.edu\", \"girish.chhabra@sjsu.edu\"\n",
    "    receiver_email = \"vineet.khatwal@sjsu.edu\"\n",
    "    password = 'Cmpe266@123'\n",
    "    message = MIMEMultipart(\"alternative\")\n",
    "    message[\"Subject\"] = \"Hi Reader ! Get the latest reading trends | TEAM 13\"\n",
    "    message[\"From\"] = \"cmpe.266@gmail.com\"\n",
    "    message[\"To\"] = \", \".join(receiver_email)\n",
    "\n",
    "    print(\"================== Composing the mail ================== \")\n",
    "    # Create the plain-text and HTML version of your message\n",
    "    html = \"\"\"\\\n",
    "    <html>\n",
    "        <head></head>\n",
    "        <body>\n",
    "            {0}\n",
    "        </body>\n",
    "    </html>\n",
    "    \"\"\".format(recommendationBookList.to_html())\n",
    "\n",
    "    # Turn these into plain/html MIMEText objects\n",
    "    part1 = MIMEText(html, 'html')\n",
    "\n",
    "    # Add HTML/plain-text parts to MIMEMultipart message\n",
    "    # The email client will try to render the last part first\n",
    "    message.attach(part1)\n",
    "\n",
    "    # Create secure connection with server and send email\n",
    "    context = ssl.create_default_context()\n",
    "    with smtplib.SMTP_SSL(\"smtp.gmail.com\", 465, context=context) as server:\n",
    "        server.login(sender_email, password)\n",
    "        server.sendmail(\n",
    "            sender_email, receiver_email, message.as_string()\n",
    "        )\n",
    "\n",
    "    print(\"==================   Main sent ================== \")"
   ]
  },
  {
   "cell_type": "code",
   "execution_count": 13,
   "metadata": {},
   "outputs": [
    {
     "name": "stdout",
     "output_type": "stream",
     "text": [
      "================== Composing the mail ================== \n",
      "==================   Main sent ================== \n"
     ]
    }
   ],
   "source": [
    "bestRated = df[df['ratings_count'] > 100]\n",
    "bestRated = bestRated.sort_values(by ='average_rating' , ascending=False)\n",
    "bestRated = bestRated[['title','authors','average_rating']]\n",
    "bestRated = bestRated.head(10)\n",
    "sendMailColdStart(bestRated)\n"
   ]
  },
  {
   "cell_type": "code",
   "execution_count": 14,
   "metadata": {},
   "outputs": [
    {
     "data": {
      "text/html": [
       "<div>\n",
       "<style scoped>\n",
       "    .dataframe tbody tr th:only-of-type {\n",
       "        vertical-align: middle;\n",
       "    }\n",
       "\n",
       "    .dataframe tbody tr th {\n",
       "        vertical-align: top;\n",
       "    }\n",
       "\n",
       "    .dataframe thead th {\n",
       "        text-align: right;\n",
       "    }\n",
       "</style>\n",
       "<table border=\"1\" class=\"dataframe\">\n",
       "  <thead>\n",
       "    <tr style=\"text-align: right;\">\n",
       "      <th></th>\n",
       "      <th>title</th>\n",
       "      <th>authors</th>\n",
       "      <th>average_rating</th>\n",
       "    </tr>\n",
       "    <tr>\n",
       "      <th>bookID</th>\n",
       "      <th></th>\n",
       "      <th></th>\n",
       "      <th></th>\n",
       "    </tr>\n",
       "  </thead>\n",
       "  <tbody>\n",
       "    <tr>\n",
       "      <th>24812</th>\n",
       "      <td>The Complete Calvin and Hobbes</td>\n",
       "      <td>Bill Watterson</td>\n",
       "      <td>4.82</td>\n",
       "    </tr>\n",
       "    <tr>\n",
       "      <th>8</th>\n",
       "      <td>Harry Potter Boxed Set  Books 1-5 (Harry Potte...</td>\n",
       "      <td>J.K. Rowling/Mary GrandPré</td>\n",
       "      <td>4.78</td>\n",
       "    </tr>\n",
       "    <tr>\n",
       "      <th>24814</th>\n",
       "      <td>It's a Magical World (Calvin and Hobbes  #11)</td>\n",
       "      <td>Bill Watterson</td>\n",
       "      <td>4.76</td>\n",
       "    </tr>\n",
       "    <tr>\n",
       "      <th>6550</th>\n",
       "      <td>Early Color</td>\n",
       "      <td>Saul Leiter/Martin Harrison</td>\n",
       "      <td>4.73</td>\n",
       "    </tr>\n",
       "    <tr>\n",
       "      <th>10</th>\n",
       "      <td>Harry Potter Collection (Harry Potter  #1-6)</td>\n",
       "      <td>J.K. Rowling</td>\n",
       "      <td>4.73</td>\n",
       "    </tr>\n",
       "    <tr>\n",
       "      <th>34545</th>\n",
       "      <td>Elliott Erwitt: Snaps</td>\n",
       "      <td>Murray Sayle/Charles Flowers/Elliott Erwitt</td>\n",
       "      <td>4.72</td>\n",
       "    </tr>\n",
       "    <tr>\n",
       "      <th>24816</th>\n",
       "      <td>Homicidal Psycho Jungle Cat (Calvin and Hobbes...</td>\n",
       "      <td>Bill Watterson</td>\n",
       "      <td>4.72</td>\n",
       "    </tr>\n",
       "    <tr>\n",
       "      <th>24820</th>\n",
       "      <td>Calvin and Hobbes: Sunday Pages 1985-1995: An ...</td>\n",
       "      <td>Bill Watterson</td>\n",
       "      <td>4.71</td>\n",
       "    </tr>\n",
       "    <tr>\n",
       "      <th>44826</th>\n",
       "      <td>The Price of the Ticket: Collected Nonfiction ...</td>\n",
       "      <td>James Baldwin</td>\n",
       "      <td>4.70</td>\n",
       "    </tr>\n",
       "    <tr>\n",
       "      <th>20749</th>\n",
       "      <td>Study Bible: NIV</td>\n",
       "      <td>Anonymous</td>\n",
       "      <td>4.70</td>\n",
       "    </tr>\n",
       "  </tbody>\n",
       "</table>\n",
       "</div>"
      ],
      "text/plain": [
       "                                                    title  \\\n",
       "bookID                                                      \n",
       "24812                      The Complete Calvin and Hobbes   \n",
       "8       Harry Potter Boxed Set  Books 1-5 (Harry Potte...   \n",
       "24814       It's a Magical World (Calvin and Hobbes  #11)   \n",
       "6550                                          Early Color   \n",
       "10           Harry Potter Collection (Harry Potter  #1-6)   \n",
       "34545                               Elliott Erwitt: Snaps   \n",
       "24816   Homicidal Psycho Jungle Cat (Calvin and Hobbes...   \n",
       "24820   Calvin and Hobbes: Sunday Pages 1985-1995: An ...   \n",
       "44826   The Price of the Ticket: Collected Nonfiction ...   \n",
       "20749                                    Study Bible: NIV   \n",
       "\n",
       "                                            authors  average_rating  \n",
       "bookID                                                               \n",
       "24812                                Bill Watterson            4.82  \n",
       "8                        J.K. Rowling/Mary GrandPré            4.78  \n",
       "24814                                Bill Watterson            4.76  \n",
       "6550                    Saul Leiter/Martin Harrison            4.73  \n",
       "10                                     J.K. Rowling            4.73  \n",
       "34545   Murray Sayle/Charles Flowers/Elliott Erwitt            4.72  \n",
       "24816                                Bill Watterson            4.72  \n",
       "24820                                Bill Watterson            4.71  \n",
       "44826                                 James Baldwin            4.70  \n",
       "20749                                     Anonymous            4.70  "
      ]
     },
     "execution_count": 14,
     "metadata": {},
     "output_type": "execute_result"
    }
   ],
   "source": [
    "bestRated"
   ]
  },
  {
   "cell_type": "code",
   "execution_count": 15,
   "metadata": {},
   "outputs": [
    {
     "data": {
      "text/html": [
       "<div>\n",
       "<style scoped>\n",
       "    .dataframe tbody tr th:only-of-type {\n",
       "        vertical-align: middle;\n",
       "    }\n",
       "\n",
       "    .dataframe tbody tr th {\n",
       "        vertical-align: top;\n",
       "    }\n",
       "\n",
       "    .dataframe thead th {\n",
       "        text-align: right;\n",
       "    }\n",
       "</style>\n",
       "<table border=\"1\" class=\"dataframe\">\n",
       "  <thead>\n",
       "    <tr style=\"text-align: right;\">\n",
       "      <th></th>\n",
       "      <th>title</th>\n",
       "      <th>authors</th>\n",
       "      <th>ratings_count</th>\n",
       "    </tr>\n",
       "    <tr>\n",
       "      <th>bookID</th>\n",
       "      <th></th>\n",
       "      <th></th>\n",
       "      <th></th>\n",
       "    </tr>\n",
       "  </thead>\n",
       "  <tbody>\n",
       "    <tr>\n",
       "      <th>41865</th>\n",
       "      <td>Twilight (Twilight  #1)</td>\n",
       "      <td>Stephenie Meyer</td>\n",
       "      <td>4597666</td>\n",
       "    </tr>\n",
       "    <tr>\n",
       "      <th>5907</th>\n",
       "      <td>The Hobbit  or There and Back Again</td>\n",
       "      <td>J.R.R. Tolkien</td>\n",
       "      <td>2530894</td>\n",
       "    </tr>\n",
       "    <tr>\n",
       "      <th>5107</th>\n",
       "      <td>The Catcher in the Rye</td>\n",
       "      <td>J.D. Salinger</td>\n",
       "      <td>2457092</td>\n",
       "    </tr>\n",
       "    <tr>\n",
       "      <th>960</th>\n",
       "      <td>Angels &amp; Demons (Robert Langdon  #1)</td>\n",
       "      <td>Dan Brown</td>\n",
       "      <td>2418736</td>\n",
       "    </tr>\n",
       "    <tr>\n",
       "      <th>5</th>\n",
       "      <td>Harry Potter and the Prisoner of Azkaban (Harr...</td>\n",
       "      <td>J.K. Rowling/Mary GrandPré</td>\n",
       "      <td>2339585</td>\n",
       "    </tr>\n",
       "    <tr>\n",
       "      <th>15881</th>\n",
       "      <td>Harry Potter and the Chamber of Secrets (Harry...</td>\n",
       "      <td>J.K. Rowling/Mary GrandPré</td>\n",
       "      <td>2293963</td>\n",
       "    </tr>\n",
       "    <tr>\n",
       "      <th>2</th>\n",
       "      <td>Harry Potter and the Order of the Phoenix (Har...</td>\n",
       "      <td>J.K. Rowling/Mary GrandPré</td>\n",
       "      <td>2153167</td>\n",
       "    </tr>\n",
       "    <tr>\n",
       "      <th>34</th>\n",
       "      <td>The Fellowship of the Ring (The Lord of the Ri...</td>\n",
       "      <td>J.R.R. Tolkien</td>\n",
       "      <td>2128944</td>\n",
       "    </tr>\n",
       "    <tr>\n",
       "      <th>7613</th>\n",
       "      <td>Animal Farm</td>\n",
       "      <td>George Orwell/Boris Grabnar/Peter Škerl</td>\n",
       "      <td>2111750</td>\n",
       "    </tr>\n",
       "    <tr>\n",
       "      <th>1</th>\n",
       "      <td>Harry Potter and the Half-Blood Prince (Harry ...</td>\n",
       "      <td>J.K. Rowling/Mary GrandPré</td>\n",
       "      <td>2095690</td>\n",
       "    </tr>\n",
       "  </tbody>\n",
       "</table>\n",
       "</div>"
      ],
      "text/plain": [
       "                                                    title  \\\n",
       "bookID                                                      \n",
       "41865                             Twilight (Twilight  #1)   \n",
       "5907                  The Hobbit  or There and Back Again   \n",
       "5107                               The Catcher in the Rye   \n",
       "960                  Angels & Demons (Robert Langdon  #1)   \n",
       "5       Harry Potter and the Prisoner of Azkaban (Harr...   \n",
       "15881   Harry Potter and the Chamber of Secrets (Harry...   \n",
       "2       Harry Potter and the Order of the Phoenix (Har...   \n",
       "34      The Fellowship of the Ring (The Lord of the Ri...   \n",
       "7613                                          Animal Farm   \n",
       "1       Harry Potter and the Half-Blood Prince (Harry ...   \n",
       "\n",
       "                                        authors  ratings_count  \n",
       "bookID                                                          \n",
       "41865                           Stephenie Meyer        4597666  \n",
       "5907                             J.R.R. Tolkien        2530894  \n",
       "5107                              J.D. Salinger        2457092  \n",
       "960                                   Dan Brown        2418736  \n",
       "5                    J.K. Rowling/Mary GrandPré        2339585  \n",
       "15881                J.K. Rowling/Mary GrandPré        2293963  \n",
       "2                    J.K. Rowling/Mary GrandPré        2153167  \n",
       "34                               J.R.R. Tolkien        2128944  \n",
       "7613    George Orwell/Boris Grabnar/Peter Škerl        2111750  \n",
       "1                    J.K. Rowling/Mary GrandPré        2095690  "
      ]
     },
     "execution_count": 15,
     "metadata": {},
     "output_type": "execute_result"
    }
   ],
   "source": [
    "maxRatingCount = df.sort_values(by ='ratings_count' , ascending=False)\n",
    "maxRatingCount = maxRatingCount[['title','authors','ratings_count']]\n",
    "maxRatingCount = maxRatingCount.head(10)\n",
    "maxRatingCount"
   ]
  },
  {
   "cell_type": "code",
   "execution_count": 16,
   "metadata": {},
   "outputs": [
    {
     "name": "stdout",
     "output_type": "stream",
     "text": [
      "================== Composing the mail ================== \n",
      "==================   Main sent ================== \n"
     ]
    }
   ],
   "source": [
    "sendMailColdStart(maxRatingCount)"
   ]
  },
  {
   "cell_type": "markdown",
   "metadata": {},
   "source": [
    "# Conecting to the Client"
   ]
  },
  {
   "cell_type": "code",
   "execution_count": 17,
   "metadata": {},
   "outputs": [],
   "source": [
    "client = gr.Client(developer_key= 'fgwnppR6Q1wpFt0n6umUQ') "
   ]
  },
  {
   "cell_type": "code",
   "execution_count": 18,
   "metadata": {},
   "outputs": [],
   "source": [
    "# Creating a function to get book details from the ISBN 13 value.\n",
    "\n",
    "#Alternate scraping solution, when both the API(s) fails\n",
    "def htmlFunction(isbn):\n",
    "    url = 'https://isbndb.com/book/'+isbn\n",
    "    articleVal = Article(url)\n",
    "    #article = 'https://isbndb.com/book/9780450524684'\n",
    "    articleVal.download()\n",
    "    articleVal.parse()\n",
    "    arVal = articleVal.html\n",
    "    arVal = arVal[9300:9900]\n",
    "    return arVal\n",
    "\n"
   ]
  },
  {
   "cell_type": "code",
   "execution_count": 19,
   "metadata": {},
   "outputs": [],
   "source": [
    "# The finction for getting the final dataframe for the charts\n",
    "def final_df(df1, l):\n",
    "    year_df = pd.DataFrame(l, columns=['Year'])\n",
    "    df1 = df1.reset_index(drop=True)\n",
    "    final = df1[['authors', 'average_rating', 'title']].join(year_df)\n",
    "    return final"
   ]
  },
  {
   "cell_type": "code",
   "execution_count": 20,
   "metadata": {},
   "outputs": [
    {
     "data": {
      "text/plain": [
       "P.G. Wodehouse         40\n",
       "Stephen King           40\n",
       "Rumiko Takahashi       39\n",
       "Orson Scott Card       35\n",
       "Agatha Christie        33\n",
       "Piers Anthony          30\n",
       "Sandra Brown           29\n",
       "Mercedes Lackey        29\n",
       "Dick Francis           28\n",
       "Laurell K. Hamilton    23\n",
       "Name: authors, dtype: int64"
      ]
     },
     "execution_count": 20,
     "metadata": {},
     "output_type": "execute_result"
    }
   ],
   "source": [
    "#Finding the top 15 authors with the most number of books\n",
    "df['authors'].value_counts().head(10)"
   ]
  },
  {
   "cell_type": "code",
   "execution_count": 21,
   "metadata": {},
   "outputs": [
    {
     "data": {
      "text/plain": [
       "False    11123\n",
       "Name: average_rating, dtype: int64"
      ]
     },
     "execution_count": 21,
     "metadata": {},
     "output_type": "execute_result"
    }
   ],
   "source": [
    "df.average_rating.isnull().value_counts()"
   ]
  },
  {
   "cell_type": "code",
   "execution_count": 22,
   "metadata": {},
   "outputs": [],
   "source": [
    "df.dropna(0, inplace=True)\n",
    "#Removing Any null values"
   ]
  },
  {
   "cell_type": "code",
   "execution_count": 23,
   "metadata": {},
   "outputs": [],
   "source": [
    "def segregationFunc(data):\n",
    "    valuesData = []\n",
    "    for i in data.average_rating:\n",
    "        if i>=0 and i<=1:\n",
    "            valuesData.append(\"Between 0 and 1\")\n",
    "        elif i>1 and i<=2:\n",
    "            valuesData.append(\"Between 1 and 2\")\n",
    "        elif i>2 and i<=3:\n",
    "            valuesData.append(\"Between 2 and 3\")\n",
    "        elif i>3 and i<=4:\n",
    "            valuesData.append(\"Between 3 and 4\")\n",
    "        elif i>4 and i<=5:\n",
    "            valuesData.append(\"Between 4 and 5\")\n",
    "        else:\n",
    "            valuesData.append(\"NaN\")\n",
    "    return valuesData"
   ]
  },
  {
   "cell_type": "code",
   "execution_count": 24,
   "metadata": {},
   "outputs": [],
   "source": [
    "df['Ratings_Dist'] = segregationFunc(df)\n"
   ]
  },
  {
   "cell_type": "code",
   "execution_count": 25,
   "metadata": {},
   "outputs": [],
   "source": [
    "tempTrial = df[~(df.ratings_count>2000000)]"
   ]
  },
  {
   "cell_type": "code",
   "execution_count": 26,
   "metadata": {},
   "outputs": [],
   "source": [
    "tempTrial = df[['average_rating', 'ratings_count']]\n",
    "data = np.asarray([np.asarray(tempTrial['average_rating']), np.asarray(tempTrial['ratings_count'])]).T"
   ]
  },
  {
   "cell_type": "markdown",
   "metadata": {},
   "source": [
    "# Using the Elbow Curve"
   ]
  },
  {
   "cell_type": "code",
   "execution_count": 27,
   "metadata": {},
   "outputs": [
    {
     "data": {
      "text/plain": [
       "Text(0.5, 1.0, 'Elbow Curve')"
      ]
     },
     "execution_count": 27,
     "metadata": {},
     "output_type": "execute_result"
    },
    {
     "data": {
      "image/png": "[encoded data removed]",
      "text/plain": [
       "<Figure size 1080x720 with 1 Axes>"
      ]
     },
     "metadata": {
      "needs_background": "light"
     },
     "output_type": "display_data"
    }
   ],
   "source": [
    "X = data\n",
    "distortions = []\n",
    "for k in range(2,30):\n",
    "    k_means = KMeans(n_clusters = k)\n",
    "    k_means.fit(X)\n",
    "    distortions.append(k_means.inertia_)\n",
    "\n",
    "fig = plt.figure(figsize=(15,10))\n",
    "plt.plot(range(2,30), distortions, 'bx-')\n",
    "plt.title(\"Elbow Curve\")"
   ]
  },
  {
   "cell_type": "code",
   "execution_count": 28,
   "metadata": {},
   "outputs": [],
   "source": [
    "#Computing K means with K = 5, thus, taking it as 5 clusters\n",
    "centroids, _ = kmeans(data, 5)\n",
    "\n",
    "#assigning each sample to a cluster\n",
    "#Vector Quantisation:\n",
    "\n",
    "idx, _ = vq(data, centroids)"
   ]
  },
  {
   "cell_type": "code",
   "execution_count": 29,
   "metadata": {},
   "outputs": [
    {
     "data": {
      "image/png": "[encoded data removed]",
      "text/plain": [
       "<Figure size 1080x720 with 1 Axes>"
      ]
     },
     "metadata": {
      "needs_background": "light"
     },
     "output_type": "display_data"
    }
   ],
   "source": [
    "# some plotting using numpy's logical indexing\n",
    "sns.set_context('paper')\n",
    "plt.figure(figsize=(15,10))\n",
    "plt.plot(data[idx==0,0],data[idx==0,1],'or',#red circles\n",
    "     data[idx==1,0],data[idx==1,1],'ob',#blue circles\n",
    "     data[idx==2,0],data[idx==2,1],'oy', #yellow circles\n",
    "     data[idx==3,0],data[idx==3,1],'om', #magenta circles\n",
    "     data[idx==4,0],data[idx==4,1],'ok',#black circles\n",
    "        \n",
    "        )\n",
    "plt.plot(centroids[:,0],centroids[:,1],'sg',markersize=8, )\n",
    "\n",
    "\n",
    "circle1 = Line2D(range(1), range(1), color = 'red', linewidth = 0, marker= 'o', markerfacecolor='red')\n",
    "circle2 = Line2D(range(1), range(1), color = 'blue', linewidth = 0,marker= 'o', markerfacecolor='blue')\n",
    "circle3 = Line2D(range(1), range(1), color = 'yellow',linewidth=0,  marker= 'o', markerfacecolor='yellow')\n",
    "circle4 = Line2D(range(1), range(1), color = 'magenta', linewidth=0,marker= 'o', markerfacecolor='magenta')\n",
    "circle5 = Line2D(range(1), range(1), color = 'black', linewidth = 0,marker= 'o', markerfacecolor='black')\n",
    "\n",
    "plt.legend((circle1, circle2, circle3, circle4, circle5)\n",
    "           , ('Cluster_1','Cluster_2', 'Cluster_3', 'Cluster_4', 'Cluster_5'), numpoints = 1, loc = 0, )\n",
    "\n",
    "\n",
    "plt.show()"
   ]
  },
  {
   "cell_type": "code",
   "execution_count": 30,
   "metadata": {},
   "outputs": [
    {
     "data": {
      "text/plain": [
       "average_rating     2034\n",
       "ratings_count     41865\n",
       "dtype: int64"
      ]
     },
     "execution_count": 30,
     "metadata": {},
     "output_type": "execute_result"
    }
   ],
   "source": [
    "tempTrial.idxmax()"
   ]
  },
  {
   "cell_type": "code",
   "execution_count": 31,
   "metadata": {},
   "outputs": [
    {
     "data": {
      "text/html": [
       "<div>\n",
       "<style scoped>\n",
       "    .dataframe tbody tr th:only-of-type {\n",
       "        vertical-align: middle;\n",
       "    }\n",
       "\n",
       "    .dataframe tbody tr th {\n",
       "        vertical-align: top;\n",
       "    }\n",
       "\n",
       "    .dataframe thead th {\n",
       "        text-align: right;\n",
       "    }\n",
       "</style>\n",
       "<table border=\"1\" class=\"dataframe\">\n",
       "  <thead>\n",
       "    <tr style=\"text-align: right;\">\n",
       "      <th></th>\n",
       "      <th>average_rating</th>\n",
       "      <th>ratings_count</th>\n",
       "    </tr>\n",
       "    <tr>\n",
       "      <th>bookID</th>\n",
       "      <th></th>\n",
       "      <th></th>\n",
       "    </tr>\n",
       "  </thead>\n",
       "  <tbody>\n",
       "    <tr>\n",
       "      <th>1</th>\n",
       "      <td>4.57</td>\n",
       "      <td>2095690</td>\n",
       "    </tr>\n",
       "    <tr>\n",
       "      <th>2</th>\n",
       "      <td>4.49</td>\n",
       "      <td>2153167</td>\n",
       "    </tr>\n",
       "    <tr>\n",
       "      <th>4</th>\n",
       "      <td>4.42</td>\n",
       "      <td>6333</td>\n",
       "    </tr>\n",
       "    <tr>\n",
       "      <th>5</th>\n",
       "      <td>4.56</td>\n",
       "      <td>2339585</td>\n",
       "    </tr>\n",
       "    <tr>\n",
       "      <th>8</th>\n",
       "      <td>4.78</td>\n",
       "      <td>41428</td>\n",
       "    </tr>\n",
       "  </tbody>\n",
       "</table>\n",
       "</div>"
      ],
      "text/plain": [
       "        average_rating  ratings_count\n",
       "bookID                               \n",
       "1                 4.57        2095690\n",
       "2                 4.49        2153167\n",
       "4                 4.42           6333\n",
       "5                 4.56        2339585\n",
       "8                 4.78          41428"
      ]
     },
     "execution_count": 31,
     "metadata": {},
     "output_type": "execute_result"
    }
   ],
   "source": [
    "tempTrial.head()"
   ]
  },
  {
   "cell_type": "code",
   "execution_count": 32,
   "metadata": {},
   "outputs": [],
   "source": [
    "tempTrial.drop(41865, inplace = True)"
   ]
  },
  {
   "cell_type": "code",
   "execution_count": 33,
   "metadata": {},
   "outputs": [],
   "source": [
    "data = np.asarray([np.asarray(tempTrial['average_rating']), np.asarray(tempTrial['ratings_count'])]).T"
   ]
  },
  {
   "cell_type": "code",
   "execution_count": 34,
   "metadata": {},
   "outputs": [],
   "source": [
    "#Computing K means with K = 8, thus, taking it as 8 clusters\n",
    "centroids, _ = kmeans(data, 5)\n",
    "\n",
    "#assigning each sample to a cluster\n",
    "#Vector Quantisation:\n",
    "\n",
    "idx, _ = vq(data, centroids)"
   ]
  },
  {
   "cell_type": "code",
   "execution_count": 35,
   "metadata": {},
   "outputs": [
    {
     "data": {
      "image/png": "[encoded data removed]",
      "text/plain": [
       "<Figure size 1080x720 with 1 Axes>"
      ]
     },
     "metadata": {
      "needs_background": "light"
     },
     "output_type": "display_data"
    }
   ],
   "source": [
    "# some plotting using numpy's logical indexing\n",
    "sns.set_context('paper')\n",
    "plt.figure(figsize=(15,10))\n",
    "plt.plot(data[idx==0,0],data[idx==0,1],'or',#red circles\n",
    "     data[idx==1,0],data[idx==1,1],'ob',#blue circles\n",
    "     data[idx==2,0],data[idx==2,1],'oy', #yellow circles\n",
    "     data[idx==3,0],data[idx==3,1],'om', #magenta circles\n",
    "     data[idx==4,0],data[idx==4,1],'ok',#black circles\n",
    "    \n",
    "     \n",
    "        \n",
    "        \n",
    "        \n",
    "        \n",
    "        )\n",
    "plt.plot(centroids[:,0],centroids[:,1],'sg',markersize=8, )\n",
    "\n",
    "\n",
    "\n",
    "\n",
    "circle1 = Line2D(range(1), range(1), color = 'red', linewidth = 0, marker= 'o', markerfacecolor='red')\n",
    "circle2 = Line2D(range(1), range(1), color = 'blue', linewidth = 0,marker= 'o', markerfacecolor='blue')\n",
    "circle3 = Line2D(range(1), range(1), color = 'yellow',linewidth=0,  marker= 'o', markerfacecolor='yellow')\n",
    "circle4 = Line2D(range(1), range(1), color = 'magenta', linewidth=0,marker= 'o', markerfacecolor='magenta')\n",
    "circle5 = Line2D(range(1), range(1), color = 'black', linewidth = 0,marker= 'o', markerfacecolor='black')\n",
    "\n",
    "plt.legend((circle1, circle2, circle3, circle4, circle5)\n",
    "           , ('Cluster_1','Cluster_2', 'Cluster_3', 'Cluster_4', 'Cluster_5'), numpoints = 1, loc = 0, )\n",
    "\n",
    "\n",
    "plt.show()"
   ]
  },
  {
   "cell_type": "code",
   "execution_count": 36,
   "metadata": {},
   "outputs": [
    {
     "data": {
      "text/html": [
       "<div>\n",
       "<style scoped>\n",
       "    .dataframe tbody tr th:only-of-type {\n",
       "        vertical-align: middle;\n",
       "    }\n",
       "\n",
       "    .dataframe tbody tr th {\n",
       "        vertical-align: top;\n",
       "    }\n",
       "\n",
       "    .dataframe thead th {\n",
       "        text-align: right;\n",
       "    }\n",
       "</style>\n",
       "<table border=\"1\" class=\"dataframe\">\n",
       "  <thead>\n",
       "    <tr style=\"text-align: right;\">\n",
       "      <th></th>\n",
       "      <th>bookID</th>\n",
       "      <th>title</th>\n",
       "      <th>authors</th>\n",
       "      <th>average_rating</th>\n",
       "      <th>isbn</th>\n",
       "      <th>isbn13</th>\n",
       "      <th>language_code</th>\n",
       "      <th>num_pages</th>\n",
       "      <th>ratings_count</th>\n",
       "      <th>text_reviews_count</th>\n",
       "      <th>publication_date</th>\n",
       "      <th>publisher</th>\n",
       "      <th>Ratings_Dist</th>\n",
       "    </tr>\n",
       "    <tr>\n",
       "      <th>bookID</th>\n",
       "      <th></th>\n",
       "      <th></th>\n",
       "      <th></th>\n",
       "      <th></th>\n",
       "      <th></th>\n",
       "      <th></th>\n",
       "      <th></th>\n",
       "      <th></th>\n",
       "      <th></th>\n",
       "      <th></th>\n",
       "      <th></th>\n",
       "      <th></th>\n",
       "      <th></th>\n",
       "    </tr>\n",
       "  </thead>\n",
       "  <tbody>\n",
       "    <tr>\n",
       "      <th>1</th>\n",
       "      <td>1</td>\n",
       "      <td>Harry Potter and the Half-Blood Prince (Harry ...</td>\n",
       "      <td>J.K. Rowling/Mary GrandPré</td>\n",
       "      <td>4.57</td>\n",
       "      <td>0439785960</td>\n",
       "      <td>9780439785969</td>\n",
       "      <td>eng</td>\n",
       "      <td>652</td>\n",
       "      <td>2095690</td>\n",
       "      <td>27591</td>\n",
       "      <td>9/16/2006</td>\n",
       "      <td>Scholastic Inc.</td>\n",
       "      <td>Between 4 and 5</td>\n",
       "    </tr>\n",
       "    <tr>\n",
       "      <th>2</th>\n",
       "      <td>2</td>\n",
       "      <td>Harry Potter and the Order of the Phoenix (Har...</td>\n",
       "      <td>J.K. Rowling/Mary GrandPré</td>\n",
       "      <td>4.49</td>\n",
       "      <td>0439358078</td>\n",
       "      <td>9780439358071</td>\n",
       "      <td>eng</td>\n",
       "      <td>870</td>\n",
       "      <td>2153167</td>\n",
       "      <td>29221</td>\n",
       "      <td>9/1/2004</td>\n",
       "      <td>Scholastic Inc.</td>\n",
       "      <td>Between 4 and 5</td>\n",
       "    </tr>\n",
       "    <tr>\n",
       "      <th>4</th>\n",
       "      <td>4</td>\n",
       "      <td>Harry Potter and the Chamber of Secrets (Harry...</td>\n",
       "      <td>J.K. Rowling</td>\n",
       "      <td>4.42</td>\n",
       "      <td>0439554896</td>\n",
       "      <td>9780439554893</td>\n",
       "      <td>eng</td>\n",
       "      <td>352</td>\n",
       "      <td>6333</td>\n",
       "      <td>244</td>\n",
       "      <td>11/1/2003</td>\n",
       "      <td>Scholastic</td>\n",
       "      <td>Between 4 and 5</td>\n",
       "    </tr>\n",
       "    <tr>\n",
       "      <th>5</th>\n",
       "      <td>5</td>\n",
       "      <td>Harry Potter and the Prisoner of Azkaban (Harr...</td>\n",
       "      <td>J.K. Rowling/Mary GrandPré</td>\n",
       "      <td>4.56</td>\n",
       "      <td>043965548X</td>\n",
       "      <td>9780439655484</td>\n",
       "      <td>eng</td>\n",
       "      <td>435</td>\n",
       "      <td>2339585</td>\n",
       "      <td>36325</td>\n",
       "      <td>5/1/2004</td>\n",
       "      <td>Scholastic Inc.</td>\n",
       "      <td>Between 4 and 5</td>\n",
       "    </tr>\n",
       "    <tr>\n",
       "      <th>8</th>\n",
       "      <td>8</td>\n",
       "      <td>Harry Potter Boxed Set  Books 1-5 (Harry Potte...</td>\n",
       "      <td>J.K. Rowling/Mary GrandPré</td>\n",
       "      <td>4.78</td>\n",
       "      <td>0439682584</td>\n",
       "      <td>9780439682589</td>\n",
       "      <td>eng</td>\n",
       "      <td>2690</td>\n",
       "      <td>41428</td>\n",
       "      <td>164</td>\n",
       "      <td>9/13/2004</td>\n",
       "      <td>Scholastic</td>\n",
       "      <td>Between 4 and 5</td>\n",
       "    </tr>\n",
       "  </tbody>\n",
       "</table>\n",
       "</div>"
      ],
      "text/plain": [
       "        bookID                                              title  \\\n",
       "bookID                                                              \n",
       "1            1  Harry Potter and the Half-Blood Prince (Harry ...   \n",
       "2            2  Harry Potter and the Order of the Phoenix (Har...   \n",
       "4            4  Harry Potter and the Chamber of Secrets (Harry...   \n",
       "5            5  Harry Potter and the Prisoner of Azkaban (Harr...   \n",
       "8            8  Harry Potter Boxed Set  Books 1-5 (Harry Potte...   \n",
       "\n",
       "                           authors  average_rating        isbn         isbn13  \\\n",
       "bookID                                                                          \n",
       "1       J.K. Rowling/Mary GrandPré            4.57  0439785960  9780439785969   \n",
       "2       J.K. Rowling/Mary GrandPré            4.49  0439358078  9780439358071   \n",
       "4                     J.K. Rowling            4.42  0439554896  9780439554893   \n",
       "5       J.K. Rowling/Mary GrandPré            4.56  043965548X  9780439655484   \n",
       "8       J.K. Rowling/Mary GrandPré            4.78  0439682584  9780439682589   \n",
       "\n",
       "       language_code    num_pages  ratings_count  text_reviews_count  \\\n",
       "bookID                                                                 \n",
       "1                eng          652        2095690               27591   \n",
       "2                eng          870        2153167               29221   \n",
       "4                eng          352           6333                 244   \n",
       "5                eng          435        2339585               36325   \n",
       "8                eng         2690          41428                 164   \n",
       "\n",
       "       publication_date        publisher     Ratings_Dist  \n",
       "bookID                                                     \n",
       "1             9/16/2006  Scholastic Inc.  Between 4 and 5  \n",
       "2              9/1/2004  Scholastic Inc.  Between 4 and 5  \n",
       "4             11/1/2003       Scholastic  Between 4 and 5  \n",
       "5              5/1/2004  Scholastic Inc.  Between 4 and 5  \n",
       "8             9/13/2004       Scholastic  Between 4 and 5  "
      ]
     },
     "execution_count": 36,
     "metadata": {},
     "output_type": "execute_result"
    }
   ],
   "source": [
    "df.head()"
   ]
  },
  {
   "cell_type": "code",
   "execution_count": 37,
   "metadata": {},
   "outputs": [],
   "source": [
    "booksfeatures = pd.concat([df['Ratings_Dist'].str.get_dummies(sep=\",\"), df['average_rating'], df['ratings_count']], axis=1)"
   ]
  },
  {
   "cell_type": "code",
   "execution_count": 38,
   "metadata": {},
   "outputs": [
    {
     "data": {
      "text/html": [
       "<div>\n",
       "<style scoped>\n",
       "    .dataframe tbody tr th:only-of-type {\n",
       "        vertical-align: middle;\n",
       "    }\n",
       "\n",
       "    .dataframe tbody tr th {\n",
       "        vertical-align: top;\n",
       "    }\n",
       "\n",
       "    .dataframe thead th {\n",
       "        text-align: right;\n",
       "    }\n",
       "</style>\n",
       "<table border=\"1\" class=\"dataframe\">\n",
       "  <thead>\n",
       "    <tr style=\"text-align: right;\">\n",
       "      <th></th>\n",
       "      <th>Between 0 and 1</th>\n",
       "      <th>Between 1 and 2</th>\n",
       "      <th>Between 2 and 3</th>\n",
       "      <th>Between 3 and 4</th>\n",
       "      <th>Between 4 and 5</th>\n",
       "      <th>average_rating</th>\n",
       "      <th>ratings_count</th>\n",
       "    </tr>\n",
       "    <tr>\n",
       "      <th>bookID</th>\n",
       "      <th></th>\n",
       "      <th></th>\n",
       "      <th></th>\n",
       "      <th></th>\n",
       "      <th></th>\n",
       "      <th></th>\n",
       "      <th></th>\n",
       "    </tr>\n",
       "  </thead>\n",
       "  <tbody>\n",
       "    <tr>\n",
       "      <th>1</th>\n",
       "      <td>0</td>\n",
       "      <td>0</td>\n",
       "      <td>0</td>\n",
       "      <td>0</td>\n",
       "      <td>1</td>\n",
       "      <td>4.57</td>\n",
       "      <td>2095690</td>\n",
       "    </tr>\n",
       "    <tr>\n",
       "      <th>2</th>\n",
       "      <td>0</td>\n",
       "      <td>0</td>\n",
       "      <td>0</td>\n",
       "      <td>0</td>\n",
       "      <td>1</td>\n",
       "      <td>4.49</td>\n",
       "      <td>2153167</td>\n",
       "    </tr>\n",
       "    <tr>\n",
       "      <th>4</th>\n",
       "      <td>0</td>\n",
       "      <td>0</td>\n",
       "      <td>0</td>\n",
       "      <td>0</td>\n",
       "      <td>1</td>\n",
       "      <td>4.42</td>\n",
       "      <td>6333</td>\n",
       "    </tr>\n",
       "    <tr>\n",
       "      <th>5</th>\n",
       "      <td>0</td>\n",
       "      <td>0</td>\n",
       "      <td>0</td>\n",
       "      <td>0</td>\n",
       "      <td>1</td>\n",
       "      <td>4.56</td>\n",
       "      <td>2339585</td>\n",
       "    </tr>\n",
       "    <tr>\n",
       "      <th>8</th>\n",
       "      <td>0</td>\n",
       "      <td>0</td>\n",
       "      <td>0</td>\n",
       "      <td>0</td>\n",
       "      <td>1</td>\n",
       "      <td>4.78</td>\n",
       "      <td>41428</td>\n",
       "    </tr>\n",
       "  </tbody>\n",
       "</table>\n",
       "</div>"
      ],
      "text/plain": [
       "        Between 0 and 1  Between 1 and 2  Between 2 and 3  Between 3 and 4  \\\n",
       "bookID                                                                       \n",
       "1                     0                0                0                0   \n",
       "2                     0                0                0                0   \n",
       "4                     0                0                0                0   \n",
       "5                     0                0                0                0   \n",
       "8                     0                0                0                0   \n",
       "\n",
       "        Between 4 and 5  average_rating  ratings_count  \n",
       "bookID                                                  \n",
       "1                     1            4.57        2095690  \n",
       "2                     1            4.49        2153167  \n",
       "4                     1            4.42           6333  \n",
       "5                     1            4.56        2339585  \n",
       "8                     1            4.78          41428  "
      ]
     },
     "execution_count": 38,
     "metadata": {},
     "output_type": "execute_result"
    }
   ],
   "source": [
    "booksfeatures.head()"
   ]
  },
  {
   "cell_type": "code",
   "execution_count": 39,
   "metadata": {},
   "outputs": [],
   "source": [
    "minMaxScaler = MinMaxScaler()\n",
    "booksfeatures = minMaxScaler.fit_transform(booksfeatures)"
   ]
  },
  {
   "cell_type": "code",
   "execution_count": 40,
   "metadata": {},
   "outputs": [],
   "source": [
    "model = neighbors.NearestNeighbors(n_neighbors=6, algorithm='ball_tree')\n",
    "model.fit(booksfeatures)\n",
    "distance, indices = model.kneighbors(booksfeatures)"
   ]
  },
  {
   "cell_type": "code",
   "execution_count": 41,
   "metadata": {},
   "outputs": [],
   "source": [
    "def getindexfromname(name):\n",
    "    return df[df[\"title\"]==name].index.tolist()[0]\n",
    "\n",
    "all_books_names = list(df.title.values)\n",
    "\n"
   ]
  },
  {
   "cell_type": "code",
   "execution_count": 42,
   "metadata": {},
   "outputs": [],
   "source": [
    "def getIdFromPartialName(partial):\n",
    "    for name in all_books_names:\n",
    "        if partial in name:\n",
    "            print(name,all_books_names.index(name))\n",
    "            \n"
   ]
  },
  {
   "cell_type": "code",
   "execution_count": 43,
   "metadata": {},
   "outputs": [],
   "source": [
    "def printSimilarBooks(query=None,id=None):\n",
    "    if id:\n",
    "        for id in indices[id][1:]:\n",
    "            print(df.iloc[id][\"title\"])\n",
    "    if query:\n",
    "        found_id = getindexfromname(query)\n",
    "        for id in indices[found_id][1:]:\n",
    "            print(df.iloc[id][\"title\"])"
   ]
  },
  {
   "cell_type": "code",
   "execution_count": 44,
   "metadata": {},
   "outputs": [
    {
     "name": "stdout",
     "output_type": "stream",
     "text": [
      "Hitchhiker's Guide To The Galaxy: The Filming of the Douglas Adams classic\n",
      "The Peloponnesian War\n",
      "Henry and June: From the Unexpurgated Diary of Anaïs Nin\n",
      "Hemingway & Bailey's Bartending Guide to Great American Writers\n",
      "Liberty Before Liberalism\n"
     ]
    }
   ],
   "source": [
    "printSimilarBooks(\"The Catcher in the Rye\")"
   ]
  },
  {
   "cell_type": "code",
   "execution_count": 45,
   "metadata": {},
   "outputs": [
    {
     "name": "stdout",
     "output_type": "stream",
     "text": [
      "Harry Potter and the Half-Blood Prince (Harry Potter  #6) 0\n",
      "Harry Potter and the Order of the Phoenix (Harry Potter  #5) 1\n",
      "Harry Potter and the Chamber of Secrets (Harry Potter  #2) 2\n",
      "Harry Potter and the Prisoner of Azkaban (Harry Potter  #3) 3\n",
      "Harry Potter and the Half-Blood Prince (Harry Potter  #6) 0\n",
      "Harry Potter and the Prisoner of Azkaban (Harry Potter  #3) 3\n",
      "Harry Potter and the Chamber of Secrets (Harry Potter  #2) 2\n",
      "Harry Potter and the Sorcerer's Stone (Harry Potter  #1) 8873\n",
      "Harry Potter and the Philosopher's Stone (Harry Potter  #1) 10674\n",
      "Harry Potter and the Goblet of Fire (Harry Potter  #4) 10675\n"
     ]
    }
   ],
   "source": [
    "getIdFromPartialName(\"Harry Potter and the \")"
   ]
  },
  {
   "cell_type": "code",
   "execution_count": 46,
   "metadata": {},
   "outputs": [
    {
     "name": "stdout",
     "output_type": "stream",
     "text": [
      "Harry Potter and the Half-Blood Prince (Harry Potter  #6)\n",
      "The Fellowship of the Ring (The Lord of the Rings  #1)\n",
      "Harry Potter and the Chamber of Secrets (Harry Potter  #2)\n",
      "Harry Potter and the Prisoner of Azkaban (Harry Potter  #3)\n",
      "The Hobbit  or There and Back Again\n"
     ]
    }
   ],
   "source": [
    "printSimilarBooks(id = 1) #ID for the Book 5"
   ]
  },
  {
   "cell_type": "code",
   "execution_count": 47,
   "metadata": {},
   "outputs": [
    {
     "data": {
      "text/plain": [
       "'Harry Potter and the Half-Blood Prince (Harry Potter  #6)'"
      ]
     },
     "execution_count": 47,
     "metadata": {},
     "output_type": "execute_result"
    }
   ],
   "source": [
    "title = df[df.bookID==1]\n",
    "temp = title['title']\n",
    "book_title = temp[1]\n",
    "book_title"
   ]
  },
  {
   "cell_type": "code",
   "execution_count": 48,
   "metadata": {},
   "outputs": [],
   "source": [
    "column_names = [\"Title\"]\n",
    "\n",
    "mailDF = pd.DataFrame(columns = column_names )"
   ]
  },
  {
   "cell_type": "markdown",
   "metadata": {},
   "source": [
    "# Finding Similar Books"
   ]
  },
  {
   "cell_type": "code",
   "execution_count": 49,
   "metadata": {},
   "outputs": [],
   "source": [
    "\n",
    "bookTitle = \"\"\n",
    "recommendationBookList = []\n",
    "def mailSimilarBooks(id=None):\n",
    "    if id:\n",
    "        bookTitle = df[df['bookID']== id] \n",
    "        i = 0 \n",
    "        for id in indices[id][1:]:\n",
    "            if df.iloc[id][\"title\"] != book_title:\n",
    "                recommendationBookList.append(df.iloc[id][\"title\"])\n",
    "                mailDF.loc[i] = [df.iloc[id][\"title\"]]\n",
    "            i+=1"
   ]
  },
  {
   "cell_type": "code",
   "execution_count": 50,
   "metadata": {},
   "outputs": [],
   "source": [
    "mailSimilarBooks(id=1)"
   ]
  },
  {
   "cell_type": "code",
   "execution_count": 51,
   "metadata": {},
   "outputs": [
    {
     "data": {
      "text/plain": [
       "['The Fellowship of the Ring (The Lord of the Rings  #1)',\n",
       " 'Harry Potter and the Chamber of Secrets (Harry Potter  #2)',\n",
       " 'Harry Potter and the Prisoner of Azkaban (Harry Potter  #3)',\n",
       " 'The Hobbit  or There and Back Again']"
      ]
     },
     "execution_count": 51,
     "metadata": {},
     "output_type": "execute_result"
    }
   ],
   "source": [
    "recommendationBookList"
   ]
  },
  {
   "cell_type": "markdown",
   "metadata": {},
   "source": [
    "# Recommedation List"
   ]
  },
  {
   "cell_type": "code",
   "execution_count": 52,
   "metadata": {},
   "outputs": [
    {
     "data": {
      "text/html": [
       "<div>\n",
       "<style scoped>\n",
       "    .dataframe tbody tr th:only-of-type {\n",
       "        vertical-align: middle;\n",
       "    }\n",
       "\n",
       "    .dataframe tbody tr th {\n",
       "        vertical-align: top;\n",
       "    }\n",
       "\n",
       "    .dataframe thead th {\n",
       "        text-align: right;\n",
       "    }\n",
       "</style>\n",
       "<table border=\"1\" class=\"dataframe\">\n",
       "  <thead>\n",
       "    <tr style=\"text-align: right;\">\n",
       "      <th></th>\n",
       "      <th>Title</th>\n",
       "    </tr>\n",
       "  </thead>\n",
       "  <tbody>\n",
       "    <tr>\n",
       "      <th>1</th>\n",
       "      <td>The Fellowship of the Ring (The Lord of the Ri...</td>\n",
       "    </tr>\n",
       "    <tr>\n",
       "      <th>2</th>\n",
       "      <td>Harry Potter and the Chamber of Secrets (Harry...</td>\n",
       "    </tr>\n",
       "    <tr>\n",
       "      <th>3</th>\n",
       "      <td>Harry Potter and the Prisoner of Azkaban (Harr...</td>\n",
       "    </tr>\n",
       "    <tr>\n",
       "      <th>4</th>\n",
       "      <td>The Hobbit  or There and Back Again</td>\n",
       "    </tr>\n",
       "  </tbody>\n",
       "</table>\n",
       "</div>"
      ],
      "text/plain": [
       "                                               Title\n",
       "1  The Fellowship of the Ring (The Lord of the Ri...\n",
       "2  Harry Potter and the Chamber of Secrets (Harry...\n",
       "3  Harry Potter and the Prisoner of Azkaban (Harr...\n",
       "4                The Hobbit  or There and Back Again"
      ]
     },
     "execution_count": 52,
     "metadata": {},
     "output_type": "execute_result"
    }
   ],
   "source": [
    "mailDF"
   ]
  },
  {
   "cell_type": "markdown",
   "metadata": {},
   "source": [
    "# Sending Mail"
   ]
  },
  {
   "cell_type": "code",
   "execution_count": 53,
   "metadata": {},
   "outputs": [],
   "source": [
    "def sendMail(recommendationBookList, title):\n",
    "    for i in recommendationBookList:\n",
    "        print(i)\n",
    "    sender_email = \"cmpe.266@gmail.com\"\n",
    "    #receiver_email = \"vineet.khatwal@sjsu.edu\", \"aayushi.gupta@sjsu.edu\"\n",
    "    receiver_email = \"vineet.khatwal@sjsu.edu\"\n",
    "    password = 'Cmpe266@123'\n",
    "    message = MIMEMultipart(\"alternative\")\n",
    "    message[\"Subject\"] = \"Hi Reader ! Recommendation for you from CMPE 266 : Team 13\"\n",
    "    message[\"From\"] = \"cmpe.266@gmail.com\"\n",
    "    message[\"To\"] = \", \".join(receiver_email)\n",
    "\n",
    "    print(\"================== Composing the mail ================== \")\n",
    "    # Create the plain-text and HTML version of your message\n",
    "    text = \"\"\"\\\n",
    "    Hi Reader,\n",
    "    How are you?\n",
    "    Add more books to your reading bucket list.\n",
    "    We are glad you liked the book : \"\"\" + title + \"\"\"\n",
    "    We think you will also like:\n",
    "    \"\"\" + '\\n' + '\\n'.join([\"- \" + item for item in recommendationBookList]) + \"\\n\\n\" + \"\"\"\n",
    "    Enjoy your Reading time,\n",
    "    CMPE 266 | TEAM 13\n",
    "    \"\"\"\n",
    "\n",
    "    # Turn these into plain/html MIMEText objects\n",
    "    part1 = MIMEText(text, \"plain\")\n",
    "\n",
    "    # Add HTML/plain-text parts to MIMEMultipart message\n",
    "    # The email client will try to render the last part first\n",
    "    message.attach(part1)\n",
    "\n",
    "    # Create secure connection with server and send email\n",
    "    context = ssl.create_default_context()\n",
    "    with smtplib.SMTP_SSL(\"smtp.gmail.com\", 465, context=context) as server:\n",
    "        server.login(sender_email, password)\n",
    "        server.sendmail(\n",
    "            sender_email, receiver_email, message.as_string()\n",
    "        )\n",
    "\n",
    "    print(\"==================   Main sent ================== \")"
   ]
  },
  {
   "cell_type": "code",
   "execution_count": 54,
   "metadata": {},
   "outputs": [
    {
     "name": "stdout",
     "output_type": "stream",
     "text": [
      "The Fellowship of the Ring (The Lord of the Rings  #1)\n",
      "Harry Potter and the Chamber of Secrets (Harry Potter  #2)\n",
      "Harry Potter and the Prisoner of Azkaban (Harry Potter  #3)\n",
      "The Hobbit  or There and Back Again\n",
      "================== Composing the mail ================== \n",
      "==================   Main sent ================== \n"
     ]
    }
   ],
   "source": [
    "#sendMail(mailDF[['Title']], title)\n",
    "sendMail(recommendationBookList, book_title)"
   ]
  }
 ],
 "metadata": {
  "kernelspec": {
   "display_name": "Python 3",
   "language": "python",
   "name": "python3"
  },
  "language_info": {
   "codemirror_mode": {
    "name": "ipython",
    "version": 3
   },
   "file_extension": ".py",
   "mimetype": "text/x-python",
   "name": "python",
   "nbconvert_exporter": "python",
   "pygments_lexer": "ipython3",
   "version": "3.8.2"
  }
 },
 "nbformat": 4,
 "nbformat_minor": 2
}
